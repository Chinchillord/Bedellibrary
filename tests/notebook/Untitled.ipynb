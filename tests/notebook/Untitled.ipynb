{
 "cells": [
  {
   "cell_type": "markdown",
   "metadata": {},
   "source": [
    "This is an example markdown file. You can use $ \\LaTeX $, although it doesn't always render correctly. You can use standard math symbols such as $ \\mathbb{R} $ and $ \\mathbb{N} $, as well as sums and integration symbols: $$ \n",
    "    \\sum_n x^n, \\quad \\int_M \\partial f\n",
    "$$ I think you can also use matrices: $$\n",
    "    % This is a LaTeX comment, it won't show up in the compiled markdown.\n",
    "    \\begin{bmatrix}\n",
    "        0 & 1 \\\\\n",
    "        1 & 0\n",
    "    \\end{bmatrix}\n",
    "$$\n",
    "\n",
    "Let's see how inline comments$%this is an inline comment$ work. It looks like this pretty much works -- although for my style of inline comments, using [[ test(a,b). ]] as syntax for semantic tags, I'll need to edit the jupyter kernel in order to get the preprocessing right. \n",
    "\n",
    "One strange thing that's not working with my in Jupyter is the AMSCD builtins.\n",
    "\n",
    "$\\require{AMScd}$\n",
    "$$\n",
    "\\begin{CD}\n",
    "A @>a>> B\\\\\n",
    "@AAA @AAA\\\\\n",
    "C @>c>> D\n",
    "\\end{CD}\n",
    "$$\n",
    "\n",
    "\n",
    "This compiles perfectly correctly, but doesn't seem to work when exported as LaTeX"
   ]
  },
  {
   "cell_type": "code",
   "execution_count": null,
   "metadata": {},
   "outputs": [],
   "source": []
  }
 ],
 "metadata": {
  "kernelspec": {
   "display_name": "Python 3",
   "language": "python",
   "name": "python3"
  },
  "language_info": {
   "codemirror_mode": {
    "name": "ipython",
    "version": 3
   },
   "file_extension": ".py",
   "mimetype": "text/x-python",
   "name": "python",
   "nbconvert_exporter": "python",
   "pygments_lexer": "ipython3",
   "version": "3.7.3"
  }
 },
 "nbformat": 4,
 "nbformat_minor": 2
}
